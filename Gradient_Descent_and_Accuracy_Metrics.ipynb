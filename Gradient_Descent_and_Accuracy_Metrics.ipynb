{
  "nbformat": 4,
  "nbformat_minor": 0,
  "metadata": {
    "colab": {
      "provenance": [],
      "authorship_tag": "ABX9TyOy9csNmvthDYAVMZOj7+C8",
      "include_colab_link": true
    },
    "kernelspec": {
      "name": "python3",
      "display_name": "Python 3"
    },
    "language_info": {
      "name": "python"
    }
  },
  "cells": [
    {
      "cell_type": "markdown",
      "metadata": {
        "id": "view-in-github",
        "colab_type": "text"
      },
      "source": [
        "<a href=\"https://colab.research.google.com/github/KIISIISHERE/Gradient-Descent-and-Accuracy-Metrics/blob/main/Gradient_Descent_and_Accuracy_Metrics.ipynb\" target=\"_parent\"><img src=\"https://colab.research.google.com/assets/colab-badge.svg\" alt=\"Open In Colab\"/></a>"
      ]
    },
    {
      "cell_type": "code",
      "execution_count": 1,
      "metadata": {
        "id": "LnrN36R7mM5h"
      },
      "outputs": [],
      "source": [
        "from numpy import asarray,arange\n",
        "from numpy.random import rand\n",
        "from matplotlib import pyplot"
      ]
    },
    {
      "cell_type": "code",
      "source": [
        "#objective function-the function we want to minimize\n",
        "def objective(x):\n",
        "  return x**2.0"
      ],
      "metadata": {
        "id": "V2Xqj5lJH9uc"
      },
      "execution_count": 2,
      "outputs": []
    },
    {
      "cell_type": "code",
      "source": [
        "#derivative-tells us how steep the slope is\n",
        "def derivative(x):\n",
        "  return x*2.0"
      ],
      "metadata": {
        "id": "LJZS_ODgIONY"
      },
      "execution_count": 3,
      "outputs": []
    },
    {
      "cell_type": "code",
      "source": [
        "#gradient descent function\n",
        "def gradient_descent(objective,derivative,bounds,n_tier,step_size):\n",
        "  solutions,scores=list(),list()\n",
        "  #starting point\n",
        "  solution=bounds[:,0]+rand(len(bounds))*(bounds[:,1]-bounds[:,0])\n",
        "  #run the gradient descent\n",
        "  for i in range(n_tier):\n",
        "    #calculate the slope\n",
        "    gradient=derivative(solution)\n",
        "    #take a step-move to the next point\n",
        "    solution=solution-step_size*gradient\n",
        "    #evaluate the starting point\n",
        "    solution_eval=objective(solution)\n",
        "    #store the result\n",
        "    solutions.append(solution)\n",
        "    scores.append(solution_eval)\n",
        "    #report progress\n",
        "    print('>%d f(%s)=%.5f'%(i,solution,solution_eval))\n",
        "  return [solutions,scores]"
      ],
      "metadata": {
        "id": "PvLV6CquIkfg"
      },
      "execution_count": 4,
      "outputs": []
    },
    {
      "cell_type": "code",
      "source": [
        "bounds = asarray([[-1.0, 1.0]])  # range of x\n",
        "n_iter = 30                      # number of iterations\n",
        "step_size = 0.1                  # how big each step is"
      ],
      "metadata": {
        "id": "4wfSRNyGI3GP"
      },
      "execution_count": 5,
      "outputs": []
    },
    {
      "cell_type": "code",
      "source": [
        "#run the algorithm\n",
        "solutions, scores = gradient_descent(objective, derivative, bounds, n_iter, step_size)"
      ],
      "metadata": {
        "colab": {
          "base_uri": "https://localhost:8080/"
        },
        "id": "CpJB2Dg0I_uH",
        "outputId": "a7768a77-e102-44d1-c118-dabd89f1bdda"
      },
      "execution_count": 6,
      "outputs": [
        {
          "output_type": "stream",
          "name": "stdout",
          "text": [
            ">0 f([-0.03941851])=0.00155\n",
            ">1 f([-0.03153481])=0.00099\n",
            ">2 f([-0.02522784])=0.00064\n",
            ">3 f([-0.02018228])=0.00041\n",
            ">4 f([-0.01614582])=0.00026\n",
            ">5 f([-0.01291666])=0.00017\n",
            ">6 f([-0.01033333])=0.00011\n",
            ">7 f([-0.00826666])=0.00007\n",
            ">8 f([-0.00661333])=0.00004\n",
            ">9 f([-0.00529066])=0.00003\n",
            ">10 f([-0.00423253])=0.00002\n",
            ">11 f([-0.00338602])=0.00001\n",
            ">12 f([-0.00270882])=0.00001\n",
            ">13 f([-0.00216706])=0.00000\n",
            ">14 f([-0.00173364])=0.00000\n",
            ">15 f([-0.00138692])=0.00000\n",
            ">16 f([-0.00110953])=0.00000\n",
            ">17 f([-0.00088763])=0.00000\n",
            ">18 f([-0.0007101])=0.00000\n",
            ">19 f([-0.00056808])=0.00000\n",
            ">20 f([-0.00045446])=0.00000\n",
            ">21 f([-0.00036357])=0.00000\n",
            ">22 f([-0.00029086])=0.00000\n",
            ">23 f([-0.00023269])=0.00000\n",
            ">24 f([-0.00018615])=0.00000\n",
            ">25 f([-0.00014892])=0.00000\n",
            ">26 f([-0.00011914])=0.00000\n",
            ">27 f([-9.53081036e-05])=0.00000\n",
            ">28 f([-7.62464829e-05])=0.00000\n",
            ">29 f([-6.09971863e-05])=0.00000\n"
          ]
        },
        {
          "output_type": "stream",
          "name": "stderr",
          "text": [
            "/tmp/ipython-input-2443181788.py:18: DeprecationWarning: Conversion of an array with ndim > 0 to a scalar is deprecated, and will error in future. Ensure you extract a single element from your array before performing this operation. (Deprecated NumPy 1.25.)\n",
            "  print('>%d f(%s)=%.5f'%(i,solution,solution_eval))\n"
          ]
        }
      ]
    }
  ]
}